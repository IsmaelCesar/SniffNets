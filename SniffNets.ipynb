{
 "cells": [
  {
   "cell_type": "markdown",
   "metadata": {
    "colab_type": "text",
    "id": "_ichkaQU9wv0"
   },
   "source": [
    "# SniffNets\n",
    "\n",
    "This notebook contains the implementation of the SniffNets models created for clasifying the codification of signals deteced from artificial noses\n",
    "\n",
    "* Disclaimer: Unfortunately the Coffee dataset is not publicly available.\n"
   ]
  },
  {
   "cell_type": "code",
   "execution_count": null,
   "metadata": {
    "colab": {},
    "colab_type": "code",
    "id": "9BspHMr3muCY"
   },
   "outputs": [],
   "source": [
    "# Run this block it you are using google colaboratory and desire to save the results in\n",
    "# google drive\n",
    "from google.colab import drive\n",
    "drive.mount(\"/content/drive\")"
   ]
  },
  {
   "cell_type": "code",
   "execution_count": null,
   "metadata": {
    "colab": {
     "base_uri": "https://localhost:8080/",
     "height": 156
    },
    "colab_type": "code",
    "id": "zAeaH-UMCgUC",
    "outputId": "2ba9600a-3300-4839-80ba-6669ad9c6654"
   },
   "outputs": [
    {
     "name": "stdout",
     "output_type": "stream",
     "text": [
      "Cloning into 'SniffNets'...\n",
      "remote: Enumerating objects: 182, done.\u001b[K\n",
      "remote: Counting objects: 100% (182/182), done.\u001b[K\n",
      "remote: Compressing objects: 100% (118/118), done.\u001b[K\n",
      "remote: Total 775 (delta 123), reused 115 (delta 59), pack-reused 593\u001b[K\n",
      "Receiving objects: 100% (775/775), 178.63 MiB | 29.92 MiB/s, done.\n",
      "Resolving deltas: 100% (424/424), done.\n",
      "Checking out files: 100% (132/132), done.\n"
     ]
    }
   ],
   "source": [
    "!git clone https://github.com/IsmaelCesar/SniffNets.git"
   ]
  },
  {
   "cell_type": "code",
   "execution_count": null,
   "metadata": {
    "colab": {},
    "colab_type": "code",
    "id": "cH1QOvNd-fQM"
   },
   "outputs": [],
   "source": [
    "import os\n",
    "import numpy as np\n",
    "import time\n",
    "import csv\n",
    "import logging\n",
    "import pickle as pkl\n",
    "%tensorflow_version 1.x\n",
    "import keras\n",
    "from keras.layers import Conv2D\n",
    "from keras.models import Sequential\n",
    "from keras.layers import AveragePooling2D\n",
    "from keras.layers import MaxPooling2D\n",
    "from keras.layers import BatchNormalization\n",
    "from keras.layers import Flatten,Dropout,Add\n",
    "from keras.layers import Dense\n",
    "from keras.layers import Input\n",
    "from keras.models import Model\n",
    "from keras.layers.merge import concatenate\n",
    "\n",
    "import sklearn\n",
    "import sklearn.neighbors.KNeighborsClassifier as KNN\n",
    "from sklearn.model_selection import train_test_split\n",
    "from sklearn.metrics import classification_report\n",
    "from sklearn.svm import SVC\n",
    "\n",
    "\n",
    "import matplotlib.pyplot as plt\n",
    "\n",
    "global data_folder,data_sets,ds_wine,extension\n",
    "global dataset_name,sub_dataset_name,experiments_folder\n",
    "\n",
    "data_folder = \"SniffNets/data/\"\n",
    "global_dir = \"drive/My Drive/\"\n",
    "\n",
    "experiments_folder = os.path.join(global_dir,\"windowed_experiments_mean_stdd/\")\n",
    "\n",
    "if not os.path.exists(experiments_folder):\n",
    "    os.mkdir(experiments_folder)\n",
    "dataset_name=\"\"\n",
    "sub_dataset_name=\"\""
   ]
  },
  {
   "cell_type": "markdown",
   "metadata": {
    "colab_type": "text",
    "id": "Z52U5zawDeNp"
   },
   "source": [
    "### Data Loading resources"
   ]
  },
  {
   "cell_type": "code",
   "execution_count": null,
   "metadata": {
    "colab": {},
    "colab_type": "code",
    "id": "3nhWulvJDFwR"
   },
   "outputs": [],
   "source": [
    "extension = \".pkl\"\n",
    "data_sets   = {\n",
    "    \"fonollosa\":{0: \"B1-system\",\n",
    "                 1: \"B2-system\",\n",
    "                 2: \"B3-system\",\n",
    "                 3: \"B4-system\",\n",
    "                 4: \"B5-system\",\n",
    "                 \"n_classes\": 4\n",
    "                 },\n",
    "    \"turbulent_gas_mixtures\": {0: \"preloaded_dataset\", \"n_classes\": 4},\n",
    "    \"windtunnel\": {\n",
    "                0: \"preloaded_dataset-L1\",\n",
    "                1: \"preloaded_dataset-L2\",\n",
    "                2: \"preloaded_dataset-L3\",\n",
    "                3: \"preloaded_dataset-L4\",\n",
    "                4: \"preloaded_dataset-L5\",\n",
    "                5: \"preloaded_dataset-L6\",\n",
    "                \"n_classes\": 11,\n",
    "                }\n",
    "    # Un comment the following line if you have been authorized to use the dataset\n",
    "    # ,\"coffee_dataset\": {0: \"preloaded_dataset\", \"n_classes\": 3}\n",
    "}\n",
    "ds_wine = {\"QWines-CsystemTR\":3,\n",
    "            \"QWinesEa-CsystemTR\":4}\n",
    "\n",
    "def load(ds_choice, ds_idx=0):\n",
    "    \"\"\"\n",
    "    choices : 0 -> fonollosa, 1 -> turbulent_gas_mixtures, 2 -> windtunnel\n",
    "    :param ds_choice: the index naming the dataset chosen\n",
    "    :param ds_idx: the index if the folder containing the dataset has one or more datasets\n",
    "    :return: the dataset read,the labels and  the number of classes\n",
    "    \"\"\"\n",
    "    global data_folder, data_sets, extension, dataset_name, sub_dataset_name\n",
    "    assert ds_choice in list(data_sets.keys())\n",
    "    # ds_name =[ds_choice]\n",
    "    ds_name = ds_choice\n",
    "    dataset_name = ds_name+\"/\"\n",
    "\n",
    "    logging.info(ds_name + \" Is being loaded\")\n",
    "\n",
    "    n_classes = data_sets[ds_name]['n_classes']\n",
    "    print(\"\\n\\n ds_name:\"+ds_name+\"\\n\\n\")\n",
    "    print(\"\\n\\n ds_idx\"+str(ds_idx)+\"\\n\\n\")\n",
    "    subds_name = data_sets[ds_name][ds_idx]\n",
    "    sub_dataset_name = subds_name + \"/\"\n",
    "\n",
    "    data ,labels = None,None\n",
    "    with open(data_folder+ds_name+\"/\"+subds_name+extension, 'rb') as d:\n",
    "        data, labels, _ = pkl.load(d)\n",
    "        d.close()\n",
    "\n",
    "    return data, labels, n_classes, dataset_name, sub_dataset_name\n",
    "\n",
    "def load_wine(ds_choice):\n",
    "    \"\"\"\n",
    "    choices : 0 -> QWines-CsystemTR, 1 -> QWinesEa-CsystemTR\n",
    "    :param ds_choice: the index naming the dataset chosen\n",
    "    :param ds_idx: the index if the folder containing the dataset has one or more datasets\n",
    "    :return: the dataset read,the labels and  the number of classes\n",
    "    \"\"\"\n",
    "    global data_folder, ds_wine, extension\n",
    "\n",
    "    assert ds_choice in list(ds_wine.keys())\n",
    "    ds_name = ds_choice\n",
    "    dataset_name = ds_name+'/'\n",
    "\n",
    "    logging.info(ds_name + \" Is being loaded\")\n",
    "\n",
    "    n_classes = ds_wine[ds_name]\n",
    "\n",
    "    data,labels = None,None\n",
    "    with open(data_folder+\"wines/\"+ds_name+extension,\"rb\") as d:\n",
    "        data, labels, _, _ = pkl.load(d)\n",
    "        d.close()\n",
    "\n",
    "    return data, labels, n_classes, dataset_name, sub_dataset_name\n",
    "\n"
   ]
  },
  {
   "cell_type": "code",
   "execution_count": null,
   "metadata": {
    "colab": {},
    "colab_type": "code",
    "id": "NiH3EN-REPJ3"
   },
   "outputs": [],
   "source": [
    "def data_set_reshaped(data_set):\n",
    "    newData = []\n",
    "    for d in data_set:\n",
    "        newData.append(d.reshape(d.shape[0], d.shape[1],1).tolist())\n",
    "    return np.array(newData)\n",
    "\n",
    "def load_and_split(ds_choice,ds_idx=0,read_wine_datasets=False):\n",
    "    # Loading dataset\n",
    "    global input_shape,n_classes,dataset_name,sub_dataset_name\n",
    "    data = None\n",
    "    labels = None\n",
    "    if not read_wine_datasets:\n",
    "        data, labels, n_classes,dataset_name,sub_dataset_name = load(ds_choice,ds_idx)\n",
    "    else:\n",
    "        data, labels, n_classes, dataset_name, sub_dataset_name = load_wine(ds_choice)\n",
    "\n",
    "    train_data, test_data,train_labels, test_labels = train_test_split(data,labels,test_size=.2)\n",
    "    train_data = data_set_reshaped(train_data)\n",
    "    test_data  = data_set_reshaped(test_data)\n",
    "\n",
    "    input_shape = train_data[0].shape\n",
    "\n",
    "    train_data,train_labels =   sklearn.utils.shuffle(train_data,train_labels)\n",
    "    test_data, test_labels = sklearn.utils.shuffle(test_data, test_labels)\n",
    "\n",
    "\n",
    "    return train_data,train_labels,test_data,test_labels"
   ]
  },
  {
   "cell_type": "code",
   "execution_count": null,
   "metadata": {
    "colab": {},
    "colab_type": "code",
    "id": "Tev9_C_6OHZv"
   },
   "outputs": [],
   "source": [
    "def standardize_data(train_data, test_data, input_shape):\n",
    "\n",
    "    flat_train_data = train_data.reshape(train_data.shape[0], input_shape[0] * input_shape[1])\n",
    "    flat_test_data = test_data.reshape(test_data.shape[0], input_shape[0] * input_shape[1])\n",
    "\n",
    "    scaler = sklearn.preprocessing.StandardScaler().fit(flat_train_data)\n",
    "    flat_train_data = scaler.transform(flat_train_data)\n",
    "\n",
    "    scaler = sklearn.preprocessing.StandardScaler().fit(flat_test_data)\n",
    "    flat_test_data = scaler.transform(flat_test_data)\n",
    "\n",
    "    new_train = flat_train_data.reshape(train_data.shape[0], input_shape[0], input_shape[1], 1)\n",
    "    new_test = flat_test_data.reshape(test_data.shape[0], input_shape[0], input_shape[1], 1)\n",
    "    return new_train, new_test"
   ]
  },
  {
   "cell_type": "code",
   "execution_count": null,
   "metadata": {
    "colab": {},
    "colab_type": "code",
    "id": "IXhok4FGlWW-"
   },
   "outputs": [],
   "source": [
    "def split_datasamples_by_sensors(data):\n",
    "    shape = data.shape\n",
    "    new_split = []\n",
    "    # Iterate over data columns\n",
    "    for i in range(shape[2]):\n",
    "        new_split.append(data[:, :, i])\n",
    "        new_split[i] = new_split[i].reshape(new_split[i].shape[0], new_split[i].shape[1])\n",
    "    return new_split"
   ]
  },
  {
   "cell_type": "markdown",
   "metadata": {
    "colab_type": "text",
    "id": "T5HQ6vrgDmgU"
   },
   "source": [
    "### Models Implementation"
   ]
  },
  {
   "cell_type": "code",
   "execution_count": null,
   "metadata": {
    "colab": {},
    "colab_type": "code",
    "id": "LljkgGLN9k7P"
   },
   "outputs": [],
   "source": [
    "def sniffnet(input_shape,n_classes):\n",
    "    kernel = (20, input_shape[1] // 2 - 1)\n",
    "    multiplier = 10\n",
    "    out_channels = 5 * multiplier\n",
    "    # convolutional components\n",
    "    model = Sequential()\n",
    "    model.add(Conv2D(out_channels, kernel, input_shape=input_shape, use_bias=True,\n",
    "                    activation='relu', name='first_conv'))\n",
    "    model.add(BatchNormalization())\n",
    "    model.add(Dropout(0.25))\n",
    "\n",
    "    kernel = ((input_shape[0]-kernel[0]+1)//2, kernel[1])\n",
    "    model.add(Conv2D(out_channels, kernel, use_bias=True,\n",
    "                    activation='relu', name='second_conv'))\n",
    "    model.add(BatchNormalization())\n",
    "    model.add(Dropout(0.25))\n",
    "    model.add(AveragePooling2D())\n",
    "    model.add(Flatten())\n",
    "    model.add(Dense(out_channels, use_bias=True, activation='relu', name=\"camada_fc1\"))\n",
    "    model.add(BatchNormalization())\n",
    "    model.add(Dense(n_classes, use_bias=True, activation='softmax', name=\"classificaiton\"))\n",
    "\n",
    "    return model\n",
    "        \n",
    "  "
   ]
  },
  {
   "cell_type": "code",
   "execution_count": null,
   "metadata": {
    "colab": {},
    "colab_type": "code",
    "id": "9DaXw0HTRkA4"
   },
   "outputs": [],
   "source": [
    "def sniffresnet(input_shape, n_classes):\n",
    "    multiplier = 4\n",
    "    kernel = (8, input_shape[1] // 2 - 1)\n",
    "    out_channels = 5 * multiplier\n",
    "    # First Part of the convolution\n",
    "    X_input = Input(input_shape)\n",
    "    X_skip = Conv2D(out_channels, kernel, activation='relu', name='first_conv1')(X_input)\n",
    "    X = Conv2D(out_channels, kernel, padding='same', activation='relu', name='first_conv2')(X_skip)\n",
    "    X = BatchNormalization()(X)\n",
    "    X = Add()([X, X_skip])\n",
    "    X = MaxPooling2D((2, 1), padding='same', name=\"max_pool1\")(X)\n",
    "\n",
    "    # Second Part of the convolution\n",
    "    out_channels = out_channels * multiplier\n",
    "    X_skip = Conv2D(out_channels, kernel, activation='relu', name='second_conv1')(X)\n",
    "    X = Conv2D(out_channels, kernel, padding='same', use_bias=True, activation='relu', name='second_conv2')(X_skip)\n",
    "    X = BatchNormalization()(X)\n",
    "    X = Add()([X, X_skip])\n",
    "    X = MaxPooling2D((2, 1), name=\"max_pool2\")(X)\n",
    "\n",
    "    # Fully Connected Part\n",
    "    X = Flatten()(X)\n",
    "    X = Dense(100, use_bias=True, activation=\"relu\", name=\"fc1\")(X)\n",
    "    X = Dropout(.25)(X)\n",
    "    X = Dense(n_classes, use_bias=True, activation=\"softmax\", name=\"class\")(X)\n",
    "\n",
    "    model = Model(inputs=X_input, outputs=X, name=\"SniffResnet\")\n",
    "\n",
    "    return model"
   ]
  },
  {
   "cell_type": "code",
   "execution_count": null,
   "metadata": {
    "colab": {},
    "colab_type": "code",
    "id": "RQ7OXXIclSU3"
   },
   "outputs": [],
   "source": [
    "def sniffmultinose(input_shape,n_classes):\n",
    "    inputs_list = []\n",
    "    multinose_out = []\n",
    "    for i in range(input_shape[1]):\n",
    "        X_input = Input((input_shape[0],), name=(\"input_nose_\" + str(i)))\n",
    "        inputs_list.append(X_input)\n",
    "        X = Dense(input_shape[0], input_shape=(input_shape[0],),\n",
    "                  use_bias=True, activation='relu', name=(\"fc1_nose_\" + str(i)))(X_input)\n",
    "        X = Dense(input_shape[0] // 4, use_bias=True, activation='tanh', name=(\"fc2_nose_\" + str(i)))(X)\n",
    "        X = Dense(input_shape[0] // 8, use_bias=True, activation='tanh', name=(\"fc3_nose_\" + str(i)))(X)\n",
    "        multinose_out.append(X)\n",
    "\n",
    "    concat = concatenate(multinose_out)\n",
    "\n",
    "    X = Dense(100, activation='tanh', use_bias=True)(concat)\n",
    "    X = Dense(100, activation='relu', use_bias=True)(X)\n",
    "    X_out = Dense(n_classes, activation='softmax', name=\"class\")(X)\n",
    "\n",
    "    model = Model(inputs=inputs_list, outputs=X_out, name=\"SniffNetMultiNose\")\n",
    "    return model"
   ]
  },
  {
   "cell_type": "code",
   "execution_count": null,
   "metadata": {
    "colab": {},
    "colab_type": "code",
    "id": "2b0PTwVELw5r"
   },
   "outputs": [],
   "source": [
    "def get_knn_classifier(n_neighbors): \n",
    "    return KNN(n_neighbors=3)\n",
    "\n",
    "def get_svm(m_gamma=8.3):\n",
    "    return SVC(gamma=gamma, C=10, kernel='rbf')\n",
    "\n",
    "def get_mlp(input_shape, n_classes):\n",
    "    X_input = Dense(100, input_shape=input_shape, activation='tanh')\n",
    "    X = Dense(30, activation='tanh')(X)\n",
    "    X = Dense(30, activation='tanh')(X)\n",
    "    X = Dense(30, activation='tanh')(X)\n",
    "    X = Dense(30, activation='tanh')(X)\n",
    "    X = Dense(30, activation='tanh')(X)\n",
    "    X = Dense(30, activation='tanh')(X)\n",
    "    X_out = Dense(n_classes, activation='softmax')(X)\n",
    "    model = Model(inputs=X_inputs, outputs=X_out, name='Simple MLP')\n",
    "    return model"
   ]
  },
  {
   "cell_type": "markdown",
   "metadata": {
    "colab_type": "text",
    "id": "cBkU0QqwF-Yb"
   },
   "source": [
    "### Create and train  models"
   ]
  },
  {
   "cell_type": "markdown",
   "metadata": {
    "colab_type": "text",
    "id": "bMWDwJmIp9qo"
   },
   "source": [
    "#### Evaluatin Models"
   ]
  },
  {
   "cell_type": "code",
   "execution_count": null,
   "metadata": {
    "colab": {},
    "colab_type": "code",
    "id": "tkuIxVvbqA_1"
   },
   "outputs": [],
   "source": [
    "def calculate_mean_and_stdd(list_of_values):\n",
    "    \"\"\"\n",
    "    Calculates the mean and standard deviation of a set\n",
    "    :param list_of_values:\n",
    "    :return: mean and standard deviation\n",
    "    \"\"\"\n",
    "    mean = 0\n",
    "    stdd = 0\n",
    "    set_size = len(list_of_values)\n",
    "    for acc in list_of_values:\n",
    "        mean += acc\n",
    "    mean = mean/set_size\n",
    "    for acc in list_of_values:\n",
    "        stdd += np.power(acc - mean, 2)\n",
    "    stdd = np.sqrt(stdd/set_size)\n",
    "\n",
    "    return mean, stdd\n",
    "\n",
    "def evaluate_model(test_data, test_labels, batch_size, model, n_epochs, H, n_classes,\n",
    "                   dataset_name, sub_dataset_name, model_folder,window_size=\"\", save_results=False):\n",
    "    ## Evaluating model\n",
    "    print(\"[INFO] Evaluating Network\")\n",
    "    super_exp_folder = experiments_folder + model_folder + dataset_name\n",
    "    sub_exp_folder = experiments_folder + model_folder + dataset_name + sub_dataset_name\n",
    "    window_file = sub_exp_folder+\"window_\"+window_size+\"_\"\n",
    "\n",
    "    if save_results and not os.path.exists(experiments_folder+model_folder):\n",
    "        os.mkdir(experiments_folder+model_folder)\n",
    "\n",
    "    if save_results and not os.path.exists(super_exp_folder):\n",
    "        os.mkdir(super_exp_folder)\n",
    "\n",
    "    if save_results and not os.path.exists(sub_exp_folder):\n",
    "        os.mkdir(sub_exp_folder)\n",
    "        #if window_size != \"\":\n",
    "        #   os.mkdir(sub_exp_folder+\"window_\"+window_size+\"/\")\n",
    "\n",
    "    if save_results:\n",
    "        train_mean_acc, train_stdd_acc = calculate_mean_and_stdd(H.history[\"acc\"])\n",
    "        val_mean_acc, val_stdd_acc = calculate_mean_and_stdd(H.history[\"val_acc\"])\n",
    "\n",
    "        with open(window_file + \"eval.txt\", 'w') as f:\n",
    "            predictions = model.predict(test_data, batch_size=batch_size)\n",
    "            value = classification_report(test_labels.argmax(axis=1),\n",
    "                                          predictions.argmax(axis=1))\n",
    "            value += \"\\nTrain acc mean: \"+str(train_mean_acc)+\"\\t ,Train acc stdd: \"+str(train_stdd_acc)\n",
    "            value += \"\\nValidation acc mean: \" + str(val_mean_acc) + \"\\t ,Validation acc stdd: \" + str(val_stdd_acc)+ \"\\n\\n\"\n",
    "            print(value)\n",
    "            f.write(value)\n",
    "            f.close()\n",
    "\n",
    "    plt.style.use(\"ggplot\")\n",
    "    plt.figure()\n",
    "    plt.plot(np.arange(0, n_epochs), H.history[\"loss\"], label=\"train_loss\")\n",
    "    plt.plot(np.arange(0, n_epochs), H.history[\"val_loss\"], label=\"val_loss\")\n",
    "    plt.plot(np.arange(0, n_epochs), H.history[\"acc\"], label=\"train_acc\")\n",
    "    plt.plot(np.arange(0, n_epochs), H.history[\"val_acc\"], label=\"val_acc\")\n",
    "    if window_size != \"\":\n",
    "        plt.title(\"Training Loss and Accuracy Window \"+window_size)\n",
    "    else:\n",
    "        plt.title(\"Training Loss and Accuracy\")\n",
    "    plt.xlabel(\"Epoch #\")\n",
    "    plt.ylabel(\"Loss/Accuracy\")\n",
    "    plt.legend()\n",
    "\n",
    "    if save_results:\n",
    "        plt.savefig(window_file + \"LossAccComparison.png\")\n",
    "        plt.close('all')\n",
    "\n",
    "    # plt.show()"
   ]
  },
  {
   "cell_type": "markdown",
   "metadata": {
    "colab_type": "text",
    "id": "3dCn_7Ek02kY"
   },
   "source": [
    "#### Classifiers\n"
   ]
  },
  {
   "cell_type": "code",
   "execution_count": null,
   "metadata": {
    "colab": {
     "base_uri": "https://localhost:8080/",
     "height": 1237
    },
    "colab_type": "code",
    "id": "AOAjUTVlDs1_",
    "outputId": "fa8b693e-1aa3-4df5-b0d7-8a3f83f20de9"
   },
   "outputs": [
    {
     "name": "stdout",
     "output_type": "stream",
     "text": [
      "[INFO] Training Network\n",
      "Train on 240 samples, validate on 60 samples\n",
      "Epoch 1/20\n",
      "240/240 [==============================] - 1s 5ms/step - loss: 0.4582 - acc: 0.8500 - val_loss: 0.0486 - val_acc: 0.9833\n",
      "Epoch 2/20\n",
      "240/240 [==============================] - 0s 1ms/step - loss: 0.3498 - acc: 0.9250 - val_loss: 0.0110 - val_acc: 1.0000\n",
      "Epoch 3/20\n",
      "240/240 [==============================] - 0s 1ms/step - loss: 0.2613 - acc: 0.9375 - val_loss: 0.1239 - val_acc: 0.9667\n",
      "Epoch 4/20\n",
      "240/240 [==============================] - 0s 1ms/step - loss: 0.1138 - acc: 0.9625 - val_loss: 0.0700 - val_acc: 0.9667\n",
      "Epoch 5/20\n",
      "240/240 [==============================] - 0s 1ms/step - loss: 0.0824 - acc: 0.9792 - val_loss: 0.0124 - val_acc: 1.0000\n",
      "Epoch 6/20\n",
      "240/240 [==============================] - 0s 1ms/step - loss: 0.1010 - acc: 0.9792 - val_loss: 0.0781 - val_acc: 0.9667\n",
      "Epoch 7/20\n",
      "240/240 [==============================] - 0s 1ms/step - loss: 0.1269 - acc: 0.9625 - val_loss: 0.0195 - val_acc: 1.0000\n",
      "Epoch 8/20\n",
      "240/240 [==============================] - 0s 1ms/step - loss: 0.0660 - acc: 0.9917 - val_loss: 0.0159 - val_acc: 1.0000\n",
      "Epoch 9/20\n",
      "240/240 [==============================] - 0s 1ms/step - loss: 0.0805 - acc: 0.9792 - val_loss: 0.0089 - val_acc: 1.0000\n",
      "Epoch 10/20\n",
      "240/240 [==============================] - 0s 1ms/step - loss: 0.0244 - acc: 0.9917 - val_loss: 0.0101 - val_acc: 1.0000\n",
      "Epoch 11/20\n",
      "240/240 [==============================] - 0s 1ms/step - loss: 0.0067 - acc: 1.0000 - val_loss: 0.0085 - val_acc: 1.0000\n",
      "Epoch 12/20\n",
      "240/240 [==============================] - 0s 1ms/step - loss: 0.0166 - acc: 0.9917 - val_loss: 0.0126 - val_acc: 1.0000\n",
      "Epoch 13/20\n",
      "240/240 [==============================] - 0s 1ms/step - loss: 0.0143 - acc: 0.9958 - val_loss: 0.0149 - val_acc: 1.0000\n",
      "Epoch 14/20\n",
      "240/240 [==============================] - 0s 1ms/step - loss: 0.0359 - acc: 0.9875 - val_loss: 0.0113 - val_acc: 1.0000\n",
      "Epoch 15/20\n",
      "240/240 [==============================] - 0s 1ms/step - loss: 0.0222 - acc: 0.9875 - val_loss: 0.0128 - val_acc: 1.0000\n",
      "Epoch 16/20\n",
      "240/240 [==============================] - 0s 1ms/step - loss: 0.0028 - acc: 1.0000 - val_loss: 0.0040 - val_acc: 1.0000\n",
      "Epoch 17/20\n",
      "240/240 [==============================] - 0s 1ms/step - loss: 0.0082 - acc: 0.9958 - val_loss: 0.0069 - val_acc: 1.0000\n",
      "Epoch 18/20\n",
      "240/240 [==============================] - 0s 1ms/step - loss: 0.0107 - acc: 0.9958 - val_loss: 0.0040 - val_acc: 1.0000\n",
      "Epoch 19/20\n",
      "240/240 [==============================] - 0s 1ms/step - loss: 0.0085 - acc: 1.0000 - val_loss: 0.0045 - val_acc: 1.0000\n",
      "Epoch 20/20\n",
      "240/240 [==============================] - 0s 1ms/step - loss: 0.0031 - acc: 1.0000 - val_loss: 0.0049 - val_acc: 1.0000\n",
      "[INFO] Evaluating Network\n",
      "              precision    recall  f1-score   support\n",
      "\n",
      "           0       1.00      1.00      1.00        12\n",
      "           1       1.00      1.00      1.00        12\n",
      "           2       1.00      1.00      1.00         9\n",
      "           3       1.00      1.00      1.00        27\n",
      "\n",
      "    accuracy                           1.00        60\n",
      "   macro avg       1.00      1.00      1.00        60\n",
      "weighted avg       1.00      1.00      1.00        60\n",
      "\n"
     ]
    },
    {
     "data": {
      "image/png": "[encoded data removed]",
      "text/plain": [
       "<Figure size 432x288 with 1 Axes>"
      ]
     },
     "metadata": {
      "tags": []
     },
     "output_type": "display_data"
    }
   ],
   "source": [
    "#Conv nets\n",
    "global input_shape,n_classes\n",
    "train_data,train_labels,test_data,test_labels = load_and_split(1,ds_idx=0)\n",
    "                                                              \n",
    "train_data,test_data = standardize_data(train_data,test_data)\n",
    "\n",
    "batch_size  = 10\n",
    "epochs = 20\n",
    "lr = .001\n",
    "\n",
    "#model = sniffnet(input_shape,n_classes)\n",
    "model = sniffresnet(input_shape,n_classes)\n",
    "model.compile(loss=\"categorical_crossentropy\",\n",
    "              optimizer=keras.optimizers.SGD(lr=lr,momentum=.9),\n",
    "             metrics=['accuracy'])\n",
    "\n",
    "train_labels  = keras.utils.to_categorical(train_labels,n_classes)\n",
    "test_labels = keras.utils.to_categorical(test_labels, n_classes)\n",
    "\n",
    "print(\"[INFO] Training Network\")\n",
    "H = model.fit(train_data,train_labels,batch_size=batch_size,\n",
    "         epochs=epochs,verbose=1,validation_data=(test_data,test_labels))\n",
    "\n",
    "evaluate_model(test_data,test_labels,batch_size,model,H)\n"
   ]
  },
  {
   "cell_type": "markdown",
   "metadata": {
    "colab_type": "text",
    "id": "FEDgl8Dmlury"
   },
   "source": [
    "#### Funsion SniffNet"
   ]
  },
  {
   "cell_type": "code",
   "execution_count": null,
   "metadata": {
    "colab": {},
    "colab_type": "code",
    "id": "9Eep6XH8lesn"
   },
   "outputs": [],
   "source": [
    "#Fusion SniffNet\n",
    "global n_classes, input_shape\n",
    "train_data, train_labels, test_data, test_labels = load_and_split(1,\n",
    "                                                                  read_wine_datasets=True)\n",
    "                                                                 \n",
    "\n",
    "# normalizing data\n",
    "train_data, test_data = standardize_data(train_data, test_data)\n",
    "\n",
    "train_data = split_datasamples_by_sensors(train_data)\n",
    "test_data = split_datasamples_by_sensors(test_data)\n",
    "\n",
    "batch_size = 10\n",
    "epochs = 20\n",
    "lr = .001\n",
    "\n",
    "train_labels = keras.utils.to_categorical(train_labels, n_classes)\n",
    "test_labels = keras.utils.to_categorical(test_labels, n_classes)\n",
    "# defining model\n",
    "model = sniffmultinose(input_shape, n_classes)\n",
    "\n",
    "model.compile(loss=\"categorical_crossentropy\",\n",
    "              optimizer=keras.optimizers.SGD(lr=lr, momentum=.9),\n",
    "              metrics=['accuracy'])\n",
    "\n",
    "\n",
    "H = model.fit(train_data, train_labels, batch_size=batch_size,\n",
    "              epochs=epochs, verbose=1, validation_data=(test_data, test_labels))\n",
    "\n",
    "evaluate_model(test_data, test_labels, batch_size, model, H)"
   ]
  },
  {
   "cell_type": "markdown",
   "metadata": {
    "colab_type": "text",
    "id": "0CgFIhEqo6RB"
   },
   "source": [
    "#### Create and print model configurations"
   ]
  },
  {
   "cell_type": "code",
   "execution_count": null,
   "metadata": {
    "colab": {},
    "colab_type": "code",
    "id": "wrp5TV3QpDn2"
   },
   "outputs": [],
   "source": [
    "global n_classes, input_shape\n",
    "train_data, train_labels, test_data, test_labels = load_and_split(2,ds_idx=0)\n",
    "\n",
    "print(\"\\t\\tSniffConvNet sumarry\\n\\n\")\n",
    "sniffnet(input_shape,n_classes).sumary()\n",
    "\n",
    "print(\"\\t\\tSniffResNet sumarry\\n\\n\")\n",
    "sniffresnet(input_shape,n_classes).sumary()\n",
    "\n",
    "print(\"\\t\\tSniffMultinose sumarry\\n\\n\")\n",
    "sniffmultinose(input_shape, n_classes).sumary()\n",
    "\n",
    "\n"
   ]
  },
  {
   "cell_type": "markdown",
   "metadata": {
    "colab_type": "text",
    "id": "T-4i4kcCNJb0"
   },
   "source": [
    "# Windowed Experiment"
   ]
  },
  {
   "cell_type": "code",
   "execution_count": null,
   "metadata": {
    "colab": {},
    "colab_type": "code",
    "id": "IdD6hjHXyVKn"
   },
   "outputs": [],
   "source": [
    "def write_csv(path,file_name,data,mode=\"w+\"):\n",
    "\n",
    "    if \".csv\" not in file_name:\n",
    "        file_name += \".csv\"\n",
    "    with open(path+file_name,mode) as f:\n",
    "        csv_writer = csv.writer(f, delimiter=',')\n",
    "        csv_writer.writerows(data)\n",
    "        f.close()\n"
   ]
  },
  {
   "cell_type": "code",
   "execution_count": null,
   "metadata": {
    "colab": {},
    "colab_type": "code",
    "id": "hLCOWempNM-3"
   },
   "outputs": [],
   "source": [
    "def resettv(samp=1):\n",
    "    \"\"\"\n",
    "    Setting the parameters for running the windowed experiment\n",
    "    :param samp: The samp value\n",
    "    :return: the parameters\n",
    "    \"\"\"\n",
    "    parameters = {\"fonollosa\": {\"ini_value\": int(5000/5),\n",
    "                                \"start_value\": int(6400/5),\n",
    "                                \"step\": int(1400/5),\n",
    "                                \"end_value\": int(19000/5)+1,\n",
    "                                },\n",
    "                  \"windtunnel\": {\"ini_value\": int(20*samp),\n",
    "                                  \"start_value\": int(44*samp),\n",
    "                                  \"step\": int(23*samp),\n",
    "                                  \"end_value\": int(260*samp)},\n",
    "                  \"turbulent_gas_mixtures\": {\"ini_value\": int(600/samp),\n",
    "                                             \"start_value\": int(837/samp),\n",
    "                                             \"step\": int(236/samp),\n",
    "                                             \"end_value\": int(2970/samp)},\n",
    "                  \"QWines-CsystemTR\": {\"ini_value\": int(160/samp),\n",
    "                                       \"start_value\": int(474/samp),\n",
    "                                       \"step\": int(314/samp),\n",
    "                                       \"end_value\": int(3300/samp) + 1},\n",
    "                  \"QWinesEa-CsystemTR\": {\"ini_value\": int(160/samp),\n",
    "                                         \"start_value\": int(474/samp),\n",
    "                                         \"step\": int(314/samp),\n",
    "                                         \"end_value\": int(3300/samp) + 1}\n",
    "                  # Uncomment the following lines if you have been authorized to \n",
    "                  #,\"coffee_dataset\": {\"ini_value\": int(29/samp),\n",
    "                  #                   \"start_value\": int(56/samp),\n",
    "                  #                   \"step\": int(26/samp),\n",
    "                  #                   \"end_value\": int(299/samp)}\n",
    "                  }\n",
    "    return parameters\n",
    "\n",
    "\n",
    "def load_dataset(ds_choice, ds_idx, read_wine_datasets=False):\n",
    "    \"\"\"\n",
    "    Loads the dataset from the experiment\n",
    "    :param ds_choice: Name of the dataset_chosen\n",
    "    :param ds_idx: index indicating wich subset should be loaded\n",
    "    :param read_wine_datasets:  True, if it is desired to read the wine dataset\n",
    "    :return: data_samples,\n",
    "            data labels,\n",
    "            name of the dataset and name of the data subset,\n",
    "            name of the input_shape\n",
    "    \"\"\"\n",
    "    data = None\n",
    "    labels = None\n",
    "    dataset_name = None\n",
    "    sub_dataset_name = None\n",
    "    if not read_wine_datasets:\n",
    "        data, labels, n_classes, dataset_name, sub_dataset_name = load(ds_choice, ds_idx)\n",
    "    else:\n",
    "        data, labels, n_classes, dataset_name, sub_dataset_name = load_wine(ds_choice)\n",
    "\n",
    "    data = np.array(data)\n",
    "\n",
    "    input_shape = data[0].shape\n",
    "\n",
    "    return data, labels, n_classes, dataset_name, sub_dataset_name, input_shape\n",
    "\n",
    "\n",
    "def run_windowed_experiment():\n",
    "    parameters = resettv()\n",
    "    list_of_keys = list(parameters.keys())\n",
    "\n",
    "    # Creating indexes for each dataset being loaded\n",
    "  \n",
    "    datasets_names = {'fonollosa': [0, 1, 2, 3, 4],#  \n",
    "                      'turbulent_gas_mixtures': [0],\n",
    "                      'windtunnel': [0, 1, 2, 3, 4, 5]\n",
    "                      # Un comment the following line \n",
    "                      # if you have been authorized to use the cofee dataset\n",
    "                      #,'coffee_dataset': [0]\n",
    "                      }\n",
    "\n",
    "    batch_size = 10\n",
    "    epochs = 20\n",
    "    lr = .001\n",
    "\n",
    "    names_list = list(datasets_names.keys())\n",
    "    # Taking the parameters for fonollosa dataset as a test case\n",
    "    # Iterating over model type, where the all the model types created are the normal ConvNet, Resnet an FusionNEt\n",
    "    # Where for the fusion net the data needs a special treatment\n",
    "    # models_names = [\"SniffConvNet\", \"SniffResnet\", \"SniffMultinose\"]\n",
    "    models_names = [(0, \"SniffConvNet\"), (1, \"SniffResnet\"), (2, \"SniffMultinose\")]\n",
    "    \n",
    "    \n",
    "    for (model_type, m_name) in models_names:\n",
    "        print(\"\\n\\tUsin \" + m_name + \" architechture\\n\")\n",
    "        model_folder = m_name + \"/\"\n",
    "        # Interating over dataset names\n",
    "        for i, name in enumerate(names_list):\n",
    "            print(\"\\n\\tDataset \" + name + \"\\n\")\n",
    "            sub_set_index = datasets_names[name]\n",
    "            # Iterating over subset indexes\n",
    "            for ss_idx in sub_set_index:\n",
    "                print(\"\\n\\n ds_name:\"+name+\"\\n\\n\")\n",
    "                print(\"\\n\\n ds_idx:\"+str(ss_idx)+\"\\n\\n\")\n",
    "                f_params = parameters[name]\n",
    "                data, labels, n_classes, dataset_name, sub_dataset_name, input_shape = load_dataset(name, ss_idx,\n",
    "                                                                                                    read_wine_datasets=False)\n",
    "                time_estimate_list = []\n",
    "                toc = time.time()\n",
    "                n_windows_processed = 0\n",
    "                data, labels = sklearn.utils.shuffle(data, labels)\n",
    "                for final_measurement in range(f_params['start_value'], f_params['end_value'], f_params['step']):\n",
    "                    print(\"\\n\\n\\t Window\", final_measurement)\n",
    "                    print(\"\\n\\n\")\n",
    "                    print(\"\\n\\tSubset \" + sub_dataset_name + \"\\n\")\n",
    "                    train_data, test_data, train_labels, test_labels = train_test_split(\n",
    "                        data[:, f_params['ini_value']:final_measurement, :],\n",
    "                        labels, test_size=0.2)\n",
    "                    # Normalizing data\n",
    "                    train_data, test_data = standardize_data(train_data, test_data, test_data.shape[1:])\n",
    "\n",
    "                    train_labels = keras.utils.to_categorical(train_labels, n_classes)\n",
    "                    test_labels = keras.utils.to_categorical(test_labels, n_classes)\n",
    "\n",
    "                    if model_type == 2:\n",
    "                        # Reshapes data if usign the SniffMultinose\n",
    "                        train_data = data_set_reshaped(train_data)\n",
    "                        test_data = data_set_reshaped(test_data)\n",
    "                        input_shape = train_data[0].shape\n",
    "                        train_data = split_datasamples_by_sensors(train_data)\n",
    "                        test_data = split_datasamples_by_sensors(test_data)\n",
    "\n",
    "                    # defining model\n",
    "                    model = None\n",
    "                    if model_type == 0:\n",
    "                        model = sniffnet(train_data.shape[1:], n_classes)\n",
    "                    elif model_type == 1:\n",
    "                        model = sniffresnet(train_data.shape[1:], n_classes)\n",
    "                    elif model_type == 2:\n",
    "                        model = sniffmultinose(input_shape, n_classes)\n",
    "                    elif model_type == 3:\n",
    "                        model = get_svm()\n",
    "                    print(\"Model \" + m_name + \" has been created\")\n",
    "\n",
    "                    model.compile(loss=\"categorical_crossentropy\",\n",
    "                                  optimizer=keras.optimizers.SGD(lr=lr, momentum=.9),\n",
    "                                  metrics=['accuracy'])\n",
    "                    H = model.fit(train_data, train_labels, batch_size=batch_size, epochs=epochs, verbose=1,\n",
    "                                  validation_data=(test_data, test_labels))\n",
    "\n",
    "                    n_windows_processed += 1\n",
    "                    \n",
    "                    evaluate_model(test_data, test_labels, batch_size, model, epochs, H, n_classes,\n",
    "                                   dataset_name, sub_dataset_name, model_folder,\n",
    "                                   window_size=str(final_measurement), save_results=True)\n",
    "                    \n",
    "                tic = time.time()\n",
    "                time_estimate_set_names = name+\" \"+sub_dataset_name\n",
    "                total_estimate = tic - toc\n",
    "                time_estimate_list.append([m_name,time_estimate_set_names,\n",
    "                                           total_estimate, \n",
    "                                           n_windows_processed])\n",
    "                #write_csv(\"drive/My Drive/\",\"time_estimates_wt_fon_tgm_coff.csv\",\n",
    "                          #time_estimate_list,\n",
    "                          #mode='a+')\n",
    "\n",
    "\n",
    "\n",
    "def run_windowed_experiment_for_wine_dataset():\n",
    "    print(\"\\n\\n\\tExecuting experinment of wines dataset\\n\\n\")\n",
    "    parameters = resettv()\n",
    "    list_of_keys = list(parameters.keys())\n",
    "\n",
    "    # Creating indexes for each dataset being loaded\n",
    "    names_list = [\"QWines-CsystemTR\", \"QWinesEa-CsystemTR\"]\n",
    "\n",
    "    batch_size = 10\n",
    "    epochs = 20\n",
    "    lr = .001\n",
    "\n",
    "    # Taking the parameters for fonollosa dataset as a test case\n",
    "    # Iterating over model type, where the all the model types created are the normal ConvNet, Resnet an FusionNEt\n",
    "    # Where for the fusion net the data needs a special treatment\n",
    "    models_names = [(0, \"SniffConvNet\"), (1, \"SniffResnet\"), (2, \"SniffMultinose\")]#\n",
    "    \n",
    "    for (model_type, m_name) in models_names:\n",
    "        print(\"\\n\\tUsin \" + m_name + \" architechture\\n\")\n",
    "        model_folder = m_name + \"/\"\n",
    "\n",
    "        # Interating over dataset names\n",
    "        for i, name in enumerate(names_list):\n",
    "            print(\"\\n\\tDataset \" + name + \"\\n\")\n",
    "            # Iterating over subset indexes\n",
    "            f_params = parameters[name]\n",
    "            data, labels, n_classes, dataset_name, sub_dataset_name, input_shape = load_dataset(name, 0,\n",
    "                                                                                                read_wine_datasets=True)\n",
    "            \n",
    "            time_estimate_list = []\n",
    "            toc = time.time()\n",
    "            n_windows_processed = 0\n",
    "            data, labels = sklearn.utils.shuffle(data, labels)            \n",
    "            for final_measurement in range(f_params['start_value'], f_params['end_value'], f_params['step']):\n",
    "                print(\"\\n\\n\\t Window\", final_measurement)\n",
    "                print(\"\\n\\n\")\n",
    "                train_data, test_data, train_labels, test_labels = train_test_split(\n",
    "                    data[:, f_params['ini_value']:final_measurement, :],\n",
    "                    labels, test_size=0.2)\n",
    "                # Normalizing data\n",
    "                train_data, test_data = standardize_data(train_data, test_data, test_data.shape[1:])\n",
    "                # Reshaping data\n",
    "                # train_data = train_data.reshape(train_data.shape[0], train_data.shape[1], train_data.shape[2], 1)\n",
    "                # test_data = test_data.reshape(test_data.shape[0], test_data.shape[1], test_data.shape[2], 1)\n",
    "\n",
    "                train_labels = keras.utils.to_categorical(train_labels, n_classes)\n",
    "                test_labels = keras.utils.to_categorical(test_labels, n_classes)\n",
    "\n",
    "                # defining model\n",
    "                if model_type == 2:\n",
    "                    # Reshapes data if usign the SniffMultinose\n",
    "                    train_data = data_set_reshaped(train_data)\n",
    "                    test_data = data_set_reshaped(test_data)\n",
    "                    input_shape = train_data[0].shape\n",
    "                    train_data = split_datasamples_by_sensors(train_data)\n",
    "                    test_data = split_datasamples_by_sensors(test_data)\n",
    "\n",
    "                # defining model\n",
    "                model = None\n",
    "                if model_type == 0:\n",
    "                    model = sniffnet(train_data.shape[1:], n_classes)\n",
    "                elif model_type == 1:\n",
    "                    model = sniffresnet(train_data.shape[1:], n_classes)\n",
    "                elif model_type == 2:\n",
    "                    model = sniffmultinose(input_shape, n_classes)\n",
    "                print(\"Model \" + m_name + \" has been created\")\n",
    "\n",
    "                model.compile(loss=\"categorical_crossentropy\",\n",
    "                              optimizer=keras.optimizers.SGD(lr=lr, momentum=.9),\n",
    "                              metrics=['accuracy'])\n",
    "\n",
    "                H = model.fit(train_data, train_labels, batch_size=batch_size, epochs=epochs, verbose=1,\n",
    "                              validation_data=(test_data, test_labels))\n",
    "                n_windows_processed += 1\n",
    "                evaluate_model(test_data, test_labels, batch_size, model, epochs, H, n_classes,\n",
    "                               dataset_name, sub_dataset_name, model_folder,\n",
    "                               window_size=str(final_measurement), save_results=True)\n",
    "            tic = time.time()\n",
    "            time_estimate_set_names = name+\" \"+sub_dataset_name\n",
    "            total_estimate = tic - toc\n",
    "            time_estimate_list.append([m_name,time_estimate_set_names,\n",
    "                                        total_estimate, \n",
    "                                        n_windows_processed])          \n",
    "            write_csv(\"drive/My Drive/\",\"time_estimates_wine.csv\",time_estimate_list,\n",
    "                      mode='a+')"
   ]
  },
  {
   "cell_type": "code",
   "execution_count": null,
   "metadata": {
    "colab": {
     "base_uri": "https://localhost:8080/",
     "height": 86
    },
    "colab_type": "code",
    "id": "4WKfXJLw1wyO",
    "outputId": "9f79abb0-4dfc-413c-fa8b-2d19bba0c119"
   },
   "outputs": [
    {
     "data": {
      "text/plain": [
       "[['model type',\n",
       "  'datset and sub dataset name',\n",
       "  'total_execution_time',\n",
       "  'windows_processed']]"
      ]
     },
     "execution_count": 25,
     "metadata": {
      "tags": []
     },
     "output_type": "execute_result"
    }
   ],
   "source": [
    "# creating csv header\n",
    "time_estimate_list_titles = [[\"model type\",\n",
    "                              \"datset and sub dataset name\",\n",
    "                              \"total_execution_time\",\n",
    "                              \"windows_processed\"]]\n",
    "time_estimate_list_titles"
   ]
  },
  {
   "cell_type": "code",
   "execution_count": null,
   "metadata": {
    "colab": {},
    "colab_type": "code",
    "id": "7E4CJE7AKuqV"
   },
   "outputs": [],
   "source": [
    "write_csv(\"drive/My Drive/\",\"time_estimates_wt_fon_tgm.csv\",time_estimate_list_titles)"
   ]
  },
  {
   "cell_type": "code",
   "execution_count": null,
   "metadata": {
    "colab": {},
    "colab_type": "code",
    "id": "wVTiHLPMNQFC"
   },
   "outputs": [],
   "source": [
    "run_windowed_experiment()"
   ]
  },
  {
   "cell_type": "code",
   "execution_count": null,
   "metadata": {
    "colab": {},
    "colab_type": "code",
    "id": "lywwuRw2KyIA"
   },
   "outputs": [],
   "source": [
    "write_csv(\"drive/My Drive/\",\"time_estimates_wine.csv\",time_estimate_list_titles)"
   ]
  },
  {
   "cell_type": "code",
   "execution_count": null,
   "metadata": {
    "colab": {},
    "colab_type": "code",
    "id": "yrAL_6lHOA5P"
   },
   "outputs": [],
   "source": [
    "run_windowed_experiment_for_wine_dataset()"
   ]
  }
 ],
 "metadata": {
  "accelerator": "GPU",
  "colab": {
   "collapsed_sections": [
    "3dCn_7Ek02kY",
    "FEDgl8Dmlury"
   ],
   "name": "projeto_final_DL.ipynb",
   "provenance": []
  },
  "kernelspec": {
   "display_name": "Python 3",
   "language": "python",
   "name": "python3"
  },
  "language_info": {
   "codemirror_mode": {
    "name": "ipython",
    "version": 3
   },
   "file_extension": ".py",
   "mimetype": "text/x-python",
   "name": "python",
   "nbconvert_exporter": "python",
   "pygments_lexer": "ipython3",
   "version": "3.8.3"
  }
 },
 "nbformat": 4,
 "nbformat_minor": 1
}
