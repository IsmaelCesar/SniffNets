{
 "cells": [
  {
   "cell_type": "markdown",
   "metadata": {},
   "source": [
    "# SniffNets\n",
    "\n",
    "This notebook contains the implementation of the SniffNets models created for clasifying the codification of signals deteced from artificial noses. The experiments in this notebook were used in the article [Deep learning models for classification of gases detected by sensor arrays of artificial nose](https://sol.sbc.org.br/index.php/eniac/article/view/9339)\n",
    "\n",
    "* Disclaimer: Unfortunately the Coffee dataset is not publicly available.\n"
   ]
  },
  {
   "cell_type": "code",
   "execution_count": null,
   "metadata": {},
   "outputs": [],
   "source": [
    "# Run this block it you are using google colaboratory and desire to save the results in\n",
    "# google drive\n",
    "from google.colab import drive\n",
    "drive.mount(\"/content/drive\")"
   ]
  },
  {
   "cell_type": "code",
   "execution_count": null,
   "metadata": {},
   "outputs": [],
   "source": [
    "# Run this block it you are using google colaboratory\n",
    "!git clone https://github.com/IsmaelCesar/SniffNets.git"
   ]
  },
  {
   "cell_type": "code",
   "execution_count": 1,
   "metadata": {},
   "outputs": [],
   "source": [
    "from sklearn.utils import shuffle\n",
    "from data_loading import load_and_split, split_datasamples_by_sensors, standardize_data\n",
    "from data_loading import dataset_classes_number, dataset_wine_classes_number\n",
    "from experiment_procedures import resettv, get_dataset_names_and_indexes, get_wine_dataset_names_and_indexes\n",
    "from models import sniffnet, sniffresnet, sniffmultinose\n",
    "from evaluation import evaluate_model, save_results_into_filesystem\n",
    "# from sklearn.model_selection import train_test_split\n",
    "from keras.optimizers import SGD\n",
    "from keras.utils import to_categorical"
   ]
  },
  {
   "cell_type": "markdown",
   "metadata": {},
   "source": [
    "## Running models"
   ]
  },
  {
   "cell_type": "code",
   "execution_count": 2,
   "metadata": {},
   "outputs": [
    {
     "name": "stdout",
     "output_type": "stream",
     "text": [
      "Dict:  {'fonollosa': [0, 1, 2, 3, 4], 'turbulent_gas_mixtures': [0], 'windtunnel': [0, 1, 2, 3, 4, 5]}\n",
      "Names:  ['fonollosa', 'turbulent_gas_mixtures', 'windtunnel']\n"
     ]
    }
   ],
   "source": [
    "batch_size  = 10\n",
    "epochs = 20\n",
    "lr = .001\n",
    "\n",
    "ds_names_and_indexes = get_dataset_names_and_indexes()\n",
    "print(\"Dict: \",ds_names_and_indexes)\n",
    "print(\"Names: \",  list(ds_names_and_indexes.keys()))"
   ]
  },
  {
   "cell_type": "code",
   "execution_count": 3,
   "metadata": {},
   "outputs": [],
   "source": [
    "def run_experiments(batch_size, epochs, ds_names_and_indexes, select_model=0, read_wine=False):\n",
    "    ds_names = list(ds_names_and_indexes.keys())\n",
    "    \n",
    "    for ds_name in ds_names:\n",
    "        indexes = ds_names_and_indexes[ds_name]\n",
    "        \n",
    "        n_classes = 0 \n",
    "        \n",
    "        if read_wine: \n",
    "            n_classes = dataset_wine_classes_number(ds_name)\n",
    "        else:\n",
    "            n_classes = dataset_classes_number(ds_name)\n",
    "        \n",
    "        for ds_idx in indexes:\n",
    "            train_data, train_labels, test_data,test_labels = load_and_split(ds_name, ds_idx=ds_idx, \n",
    "                                                                             read_wine_datasets=read_wine)\n",
    "\n",
    "            train_data, test_data = standardize_data(train_data,test_data)\n",
    "            \n",
    "            if select_model == 0:\n",
    "                model = sniffnet(input_shape,n_classes)\n",
    "            elif select_model == 1:\n",
    "                model = sniffresnet(input_shape,n_classes)\n",
    "            elif select_model == 2: \n",
    "                train_data = split_datasamples_by_sensors(train_data)\n",
    "                test_data = split_datasamples_by_sensors(test_data)\n",
    "                \n",
    "                model = sniffmultinose(input_shape, n_classes)\n",
    "                \n",
    "            \n",
    "            model.compile(loss=\"categorical_crossentropy\",\n",
    "                          optimizer=keras.optimizers.SGD(lr=lr,momentum=.9),\n",
    "                          metrics=['accuracy'])\n",
    "            \n",
    "            train_labels  = to_categorical(train_labels,n_classes)\n",
    "            test_labels = to_categorical(test_labels, n_classes)\n",
    "            \n",
    "            print(\"[INFO] Training Network\")\n",
    "            H = model.fit(train_data,train_labels,batch_size=batch_size,\n",
    "                          epochs=epochs,verbose=1,validation_data=(test_data,test_labels))\n",
    "\n",
    "            evaluate_model(test_data,test_labels,batch_size,model, n_epochs, H,\n",
    "                           experiments_folder, dataset_name, sub_dataset_name, \n",
    "                           model_folder, save_resulst=False)            "
   ]
  },
  {
   "cell_type": "markdown",
   "metadata": {},
   "source": [
    "## Run experiments on Fonollosa, Windtunnel and Turbulent Gas Mixtures Dataset"
   ]
  },
  {
   "cell_type": "markdown",
   "metadata": {},
   "source": [
    "### SniffConvNet"
   ]
  },
  {
   "cell_type": "code",
   "execution_count": null,
   "metadata": {},
   "outputs": [],
   "source": [
    "run_experiments(batch_size, epochs, ds_names_and_indexes, select_model=0)"
   ]
  },
  {
   "cell_type": "markdown",
   "metadata": {},
   "source": [
    "### SniffResnet"
   ]
  },
  {
   "cell_type": "code",
   "execution_count": null,
   "metadata": {},
   "outputs": [],
   "source": [
    "run_experiments(batch_size, epochs, ds_names_and_indexes, select_model=1)"
   ]
  },
  {
   "cell_type": "markdown",
   "metadata": {},
   "source": [
    "### SniffMultinose"
   ]
  },
  {
   "cell_type": "code",
   "execution_count": null,
   "metadata": {},
   "outputs": [],
   "source": [
    "run_experiments(batch_size, epochs, ds_names_and_indexes, select_model=2)"
   ]
  },
  {
   "cell_type": "markdown",
   "metadata": {},
   "source": [
    "## Run experiments on the Wine datasets"
   ]
  },
  {
   "cell_type": "code",
   "execution_count": null,
   "metadata": {},
   "outputs": [],
   "source": [
    "ds_wine_names_and_indexes = get_wine_dataset_names_and_indexes()"
   ]
  },
  {
   "cell_type": "markdown",
   "metadata": {},
   "source": [
    "### SniffConvNet"
   ]
  },
  {
   "cell_type": "code",
   "execution_count": null,
   "metadata": {},
   "outputs": [],
   "source": [
    "run_experiments(batch_size, epochs, ds_wine_names_and_indexes, select_model=0, read_wine=True)"
   ]
  },
  {
   "cell_type": "markdown",
   "metadata": {},
   "source": [
    "### SniffResnet"
   ]
  },
  {
   "cell_type": "code",
   "execution_count": null,
   "metadata": {},
   "outputs": [],
   "source": [
    "run_experiments(batch_size, epochs, ds_wine_names_and_indexes, select_model=1, read_wine=True)"
   ]
  },
  {
   "cell_type": "markdown",
   "metadata": {},
   "source": [
    "### SniffMultinose"
   ]
  },
  {
   "cell_type": "code",
   "execution_count": null,
   "metadata": {},
   "outputs": [],
   "source": [
    "run_experiments(batch_size, epochs, ds_wine_names_and_indexes, select_model=1, read_wine=True)"
   ]
  }
 ],
 "metadata": {
  "kernelspec": {
   "display_name": "Python 3",
   "language": "python",
   "name": "python3"
  },
  "language_info": {
   "codemirror_mode": {
    "name": "ipython",
    "version": 3
   },
   "file_extension": ".py",
   "mimetype": "text/x-python",
   "name": "python",
   "nbconvert_exporter": "python",
   "pygments_lexer": "ipython3",
   "version": "3.8.3"
  }
 },
 "nbformat": 4,
 "nbformat_minor": 4
}
